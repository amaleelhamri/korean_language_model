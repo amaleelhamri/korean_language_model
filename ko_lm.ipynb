{
 "cells": [
  {
   "cell_type": "code",
   "execution_count": 1,
   "metadata": {},
   "outputs": [],
   "source": [
    "# command allowing notebooks to execute python scripts in project\n",
    "import sys, os\n",
    "sys.path.insert(0, os.path.dirname(os.path.abspath(\".\")))\n",
    "\n",
    "from fastai import *\n",
    "from fastai.text import *\n",
    "from fastai.callbacks import *\n",
    "import pandas as pd\n",
    "from pathlib import Path\n",
    "import json\n",
    "\n",
    "from sklearn.model_selection import train_test_split\n",
    "from sklearn.metrics import f1_score, precision_score, recall_score\n",
    "\n",
    "#from konlpy.tag import Okt\n",
    "#import jpype"
   ]
  },
  {
   "cell_type": "markdown",
   "metadata": {},
   "source": [
    "# 1 - Load data"
   ]
  },
  {
   "cell_type": "markdown",
   "metadata": {},
   "source": [
    "## 1-1 Get wiki data"
   ]
  },
  {
   "cell_type": "code",
   "execution_count": 2,
   "metadata": {},
   "outputs": [],
   "source": [
    "from multifit.nlputils import split_wiki, get_wiki\n",
    "from multifit.nlputils2 import clean_files, get_num_tokens, get_corpus"
   ]
  },
  {
   "cell_type": "code",
   "execution_count": 6,
   "metadata": {},
   "outputs": [],
   "source": [
    "lang = 'ko'\n",
    "data_path = Path('/home/amaleelhamri/multifit/data/korean')\n",
    "name = f'{lang}wiki'\n",
    "path = data_path/name\n",
    "path.mkdir(exist_ok=True, parents=True)\n",
    "mdl_path = path/'models'\n",
    "bs = 256\n",
    "\n",
    "lm_fns3 = [f'{lang}_wt_sp15_multifit', f'{lang}_wt_vocab_sp15_multifit']\n",
    "lm_fns3_bwd = [f'{lang}_wt_sp15_multifit_bwd', f'{lang}_wt_vocab_sp15_multifit_bwd']"
   ]
  },
  {
   "cell_type": "code",
   "execution_count": 14,
   "metadata": {},
   "outputs": [
    {
     "name": "stdout",
     "output_type": "stream",
     "text": [
      "downloading...\n"
     ]
    },
    {
     "data": {
      "text/html": [],
      "text/plain": [
       "<IPython.core.display.HTML object>"
      ]
     },
     "metadata": {},
     "output_type": "display_data"
    },
    {
     "name": "stdout",
     "output_type": "stream",
     "text": [
      "unzipping...\n",
      "extracting...\n",
      "CPU times: user 2min 5s, sys: 4.14 s, total: 2min 9s\n",
      "Wall time: 7min 47s\n"
     ]
    }
   ],
   "source": [
    "%%time\n",
    "get_wiki(path,lang)"
   ]
  },
  {
   "cell_type": "code",
   "execution_count": 15,
   "metadata": {},
   "outputs": [
    {
     "name": "stdout",
     "output_type": "stream",
     "text": [
      "0\n",
      "100000\n",
      "200000\n",
      "300000\n",
      "400000\n",
      "500000\n",
      "600000\n",
      "700000\n",
      "800000\n",
      "900000\n",
      "1000000\n",
      "1100000\n",
      "1200000\n",
      "1300000\n",
      "1400000\n",
      "1500000\n",
      "CPU times: user 4.54 s, sys: 1.66 s, total: 6.2 s\n",
      "Wall time: 6.24 s\n"
     ]
    }
   ],
   "source": [
    "%%time\n",
    "dest = split_wiki(path, lang)"
   ]
  },
  {
   "cell_type": "code",
   "execution_count": 7,
   "metadata": {},
   "outputs": [],
   "source": [
    "dest = path/\"docs\""
   ]
  },
  {
   "cell_type": "code",
   "execution_count": 10,
   "metadata": {},
   "outputs": [
    {
     "name": "stdout",
     "output_type": "stream",
     "text": [
      "<doc id=\"5\" url=\"https://ko.wikipedia.org/wiki?curid=5\" title=\"지미 카터\">\r\n",
      "지미 카터\r\n",
      "\r\n",
      "제임스 얼 \"지미\" 카터 주니어(, 1924년 10월 1일 ~ )는 민주당 출신 미국 39번째 대통령 (1977년 ~ 1981년)이다.\r\n"
     ]
    }
   ],
   "source": [
    "!head -n4 {path}/{name}"
   ]
  },
  {
   "cell_type": "code",
   "execution_count": 11,
   "metadata": {},
   "outputs": [],
   "source": [
    "folder = \"docs\"\n",
    "clean_files(path, folder)"
   ]
  },
  {
   "cell_type": "code",
   "execution_count": 16,
   "metadata": {},
   "outputs": [
    {
     "data": {
      "text/plain": [
       "[PosixPath('/home/amaleelhamri/multifit/data/korean/kowiki/docs/섀도 복사본.txt'),\n",
       " PosixPath('/home/amaleelhamri/multifit/data/korean/kowiki/docs/디도 (성경).txt'),\n",
       " PosixPath('/home/amaleelhamri/multifit/data/korean/kowiki/docs/개그야.txt'),\n",
       " PosixPath('/home/amaleelhamri/multifit/data/korean/kowiki/docs/펠릭스 멘델스존.txt'),\n",
       " PosixPath('/home/amaleelhamri/multifit/data/korean/kowiki/docs/듀얼쇼크.txt')]"
      ]
     },
     "execution_count": 16,
     "metadata": {},
     "output_type": "execute_result"
    }
   ],
   "source": [
    "dest = path/'docs'\n",
    "dest.ls()[:5]"
   ]
  },
  {
   "cell_type": "code",
   "execution_count": 17,
   "metadata": {},
   "outputs": [
    {
     "name": "stdout",
     "output_type": "stream",
     "text": [
      "29814 files - 29929080 tokens\n",
      "CPU times: user 4.02 s, sys: 736 ms, total: 4.76 s\n",
      "Wall time: 4.75 s\n"
     ]
    }
   ],
   "source": [
    "%%time\n",
    "num_files, num_tokens = get_num_tokens(dest)\n",
    "print(f'{num_files} files - {num_tokens} tokens')"
   ]
  },
  {
   "cell_type": "code",
   "execution_count": 18,
   "metadata": {},
   "outputs": [
    {
     "name": "stdout",
     "output_type": "stream",
     "text": [
      "As there are less than 100 000 000 tokens in the initial corpus, we use it.\n",
      "CPU times: user 0 ns, sys: 0 ns, total: 0 ns\n",
      "Wall time: 97.8 µs\n"
     ]
    }
   ],
   "source": [
    "%%time\n",
    "path_corpus = get_corpus(dest, path, num_tokens, obj_tokens=1e8)"
   ]
  },
  {
   "cell_type": "markdown",
   "metadata": {},
   "source": [
    "## 1 - 2 Build databunch"
   ]
  },
  {
   "cell_type": "code",
   "execution_count": null,
   "metadata": {},
   "outputs": [],
   "source": [
    "OKT_TOKENIZER_KO = Okt()\n",
    "def tokenize_korean_text(text):\n",
    "    \"\"\"\n",
    "    Function that tokenizes and normalizes korean texts\n",
    "    :param str text: text written in korean\n",
    "\n",
    "    :return: list of korean tokens\n",
    "    :rtype: list(str)\n",
    "    \"\"\"\n",
    "    if jpype.isJVMStarted():\n",
    "        jpype.attachThreadToJVM()\n",
    "    return OKT_TOKENIZER_KO.morphs(str(text))"
   ]
  },
  {
   "cell_type": "code",
   "execution_count": 8,
   "metadata": {},
   "outputs": [
    {
     "data": {
      "text/html": [],
      "text/plain": [
       "<IPython.core.display.HTML object>"
      ]
     },
     "metadata": {},
     "output_type": "display_data"
    },
    {
     "data": {
      "text/html": [],
      "text/plain": [
       "<IPython.core.display.HTML object>"
      ]
     },
     "metadata": {},
     "output_type": "display_data"
    },
    {
     "name": "stdout",
     "output_type": "stream",
     "text": [
      "CPU times: user 20min 11s, sys: 6.11 s, total: 20min 17s\n",
      "Wall time: 5min 55s\n"
     ]
    }
   ],
   "source": [
    "%%time\n",
    "data = (TextList.from_folder(dest, processor=[OpenFileProcessor(), SPProcessor(max_vocab_sz=10000, lang='ko')])\n",
    "        .split_by_rand_pct(0.1, seed=42)\n",
    "        .label_for_lm()\n",
    "        .databunch(bs=bs, num_workers=8))"
   ]
  },
  {
   "cell_type": "code",
   "execution_count": null,
   "metadata": {},
   "outputs": [],
   "source": [
    "data.save(f'{path}/{lang}_databunch_sp15_multifit')"
   ]
  },
  {
   "cell_type": "code",
   "execution_count": 9,
   "metadata": {},
   "outputs": [
    {
     "data": {
      "text/plain": [
       "(10000, 26833)"
      ]
     },
     "execution_count": 9,
     "metadata": {},
     "output_type": "execute_result"
    }
   ],
   "source": [
    "len(data.vocab.itos), len(data.train_ds)"
   ]
  },
  {
   "cell_type": "code",
   "execution_count": 10,
   "metadata": {},
   "outputs": [
    {
     "data": {
      "text/plain": [
       "Text ▁xxbos ▁디 도 ( 공 동 번 역 , ▁개신교 ), ▁티 토 ( 가 톨 릭 ) ( ; ▁ ) 는 ▁초기 ▁기독교 의 ▁선 교 사 이자 ▁교회 ▁지도자 로 , ▁디 도 서 ▁등의 ▁바 울 ▁서 신 에서 ▁언급 되는 ▁사 도 ▁바 울 로 의 ▁동 역 자 이다 . ▁바 울 로 에 ▁의해 ▁기독교 로 ▁개 종 한 ▁것으로 ▁보 이며 , ▁전 승 에 ▁의하면 ▁그는 ▁크레 타 의 ▁감독으로 ▁세워 졌다 고 ▁한다 . ▁디 도 는 ▁코 린 토스 ( 고 린 도 ) ▁교회 에 ▁예 루 살 렘 의 ▁ 가 난 한 ▁성 도 들을 ▁도와 달 라는 ▁편지 를 ▁바 울 로 에게서 ▁받아 ▁전달 한다 . ▁이후에 ▁크레 타 에서 ▁디 도 는 ▁죽 을 때 ▁ 까지 ▁크레 타 섬 의 ▁모든 ▁도시 에 ▁장 로 를 ▁임명 했고 , ▁칸 디아 ( 현재 의 ▁ 이라 클리 오 ) ▁주변 에 ▁있는 ▁도시 인 ▁고 르 티 나 에서 ▁숨 을 ▁거두었다 고 ▁전 해 진다 . ▁디 도 는 ▁헬 라 인 이며 ▁안 티 오 키 아 ▁출신 으로 ▁여겨 지 는데 , ▁젊은 ▁나이 에 ▁그리스 ▁철학 과 ▁시 학 을 ▁배 웠다 고 ▁전 해 진다 . ▁그는 ▁또한 ▁바 울 로 에 ▁의해 ▁회 심 한 것 으로 ▁보 이며 , ▁바 울 로 의 ▁통 역 자 이자 ▁비 서 관으로 ▁활동 했다 . ▁그는 ▁또한 ▁ 49 세에 ▁예 루 살 렘 에서 ▁열린 ▁모 세의 ▁ 율 법 에 ▁대한 ▁공 회 에 ▁바 울 로 , ▁ 바르 나 바 와 ▁함께 ▁동 행 했고 ( 갈 ▁2 : 1 -3 ) . ▁바 울 로 가 ▁비록 ▁유대인 에 ▁대한 ▁사 역 을 ▁위해 ▁디 모 테 오 의 ▁할 례 에 ▁동 의 했지만 , ▁기본적으로 ▁이 방 인 ▁개 종 자에게 ▁할 례 가 ▁필요 하지 ▁않다 는 ▁태도 를 ▁취 했 으므로 ▁디 도 는 ▁할 례 를 ▁받지 ▁않았다 ( 갈 ▁2 : 3 - 5 ) . ▁바 울 로 가 ▁ 56 세 쯤 ▁되어 ▁아시아 에서 ▁떠나 게 ▁ 되었을 ▁때 ▁디 도 를 ▁ 에 페 소 스 에서 ▁코 린 토스 로 ▁보내 며 , ▁디 모 테 오 의 ▁고 린 도 전 서 ▁전달 ( 고 전 ▁16 : 10 - 11 ) 과 ▁바 울 로 의 ▁방문 ( 고 후 ▁2 : 1 , 5 - 11 ) 으로 ▁인해 ▁발생한 ▁안 좋 은 ▁ 일 들을 ▁치 유 하는 ▁임무 를 ▁맡 긴 다 . ▁바 울 로 의 ▁여 정 동안 ▁디 도 는 ▁엄 중 한 ▁편지 ( se ve re ▁xxmaj ▁le t ter ) 를 ▁전달 하였고 ( 고 후 7 : 8 ), ▁이에 ▁대한 ▁코 린 토스 ▁교회 의 ▁부정 적 ▁반응 을 ▁ 듣 기 ▁위해 ▁ 트로 아 스 ( 드로 아 ) 에서 ▁디 도 를 ▁만 난 ▁것으로 ▁보인다 ( 고 후 2 : 12 - 13 ) . ▁이 ▁임무 를 ▁성공 적으로 ▁끝 마 친 ▁이후 ▁디 도 는 ▁북쪽 으로 ▁가서 ▁마 케 도 니아 에 ▁있는 ▁바 울 로 를 ▁만 난 다 . ▁거 기 서 ▁바 울 로 는 ▁디 도 의 ▁성공 ( 고 후 ▁7 : 6 - 15 ) 을 ▁매우 ▁기 뻐 하며 ▁고 린 도 후 서를 ▁쓰 게 ▁된 ▁것이다 . ▁디 도 는 ▁이번 에는 ▁여러 명의 ▁동 행 자와 ▁함께 ▁고 린 도 후 서를 ▁전달 하게 ▁된다 . ▁바 울 로 는 ▁후에 ▁코 린 토스 에 ▁있는 ▁디 도 와 ▁합류 한 ▁뒤 , ▁디 도 를 ▁통해 ▁예 루 살 렘 에 ▁성 금을 ▁전달 하도록 ▁한다 . ▁즉 ▁디 도 는 ▁갈등 을 ▁중 재 하고 ▁관리 하는 일 과 ▁선 교 활동 에 ▁큰 ▁자 질 을 ▁보였다 . ▁초대 ▁교회 의 ▁전 승 에 ▁의하면 ▁바 울 로 는 ▁그의 ▁첫 번째 ▁로마 투 옥 에서 ▁풀 려 난 ▁뒤 ▁크레 타 섬 에 ▁들 려 ▁복 음을 ▁전 했다 . ▁그러나 ▁더 ▁많은 ▁교회 들이 ▁바 울 로 의 ▁방문 을 ▁필요 로 ▁ 했기 ▁때문에 , ▁디 도 를 ▁크레 타 섬 의 ▁감독으로 ▁임명 ( 딛 ▁1 : 5 ) 하여 ▁자신이 ▁못 다 한 ▁ 일 들을 ▁마 저 ▁ 하도록 ▁한 ▁뒤 ▁떠나 게 ▁된다 . ▁요한 네스 ▁크 리 소 스토 무 스는 ▁이로써 ▁바 울 로 가 ▁디 도 를 ▁크게 ▁신 임 했 음을 ▁알 ▁수 ▁있다고 ▁말한다 . ▁바 울 로 는 ▁후에 ▁이 피 로스 ▁지역에 ▁있는 ▁니 코 폴 리스 로 ▁디 도 를 ▁소 환 한다 ( 딛 ▁3 : 12 ) . ▁이후 ▁디 도 는 ▁달 마 티아 로 ▁여 정을 ▁떠나 게 ▁ 되는데 ( 딤 후 ▁4 : 10 ), ▁이후 ▁디 도 의 ▁죽음 에 ▁대해서는 ▁신 약 성 경 에서 ▁전 하지 ▁않는다 . ▁고 린 도 후 서 와 ▁갈라 디아 서 에서 ▁사용 된 ▁\" 디 도 \" 라는 ▁이름은 ▁디 모 테 오 가 ▁비 격 식 으로 ▁사용한 ▁이름 에 ▁불과 하다 는 ▁주장 이 ▁제기 되었는데 , ▁그 ▁주 된 ▁이유는 ▁디 모 테 오 와 ▁디 도 가 ▁바 울 로 와 ▁오랫동안 ▁ 굉 장 히 ▁ 가 깝 게 ▁지낸 ▁동 역 자 임 에도 ▁불구하고 ▁이 ▁두 ▁서 간 에서 ▁그 ▁이름이 ▁동시에 ▁등장 하지 ▁않는다 는 ▁것이다 . ▁이 ▁이론 은 ▁고전 ▁4 : 17 , ▁16 : 10 ; ▁고 후 ▁2 : 13 , ▁7 : 6 , ▁13 - 14 , ▁12 : 18 ; ▁행 ▁19 : 22 에 ▁등장하는 ▁한 ▁여 정 이 ▁디 도 이자 ▁디 모 데 인 ▁한 ▁사람의 ▁여 정 이라고 ▁주장한다 . ▁그러나 ▁디 모 데 후 서는 ▁디 도 가 ▁달 마 티아 로 ▁여 정을 ▁떠 났다 고 ( 딤 후 ▁4 : 10 ) ▁기록 하여 ▁이 ▁주장 을 ▁반 박 하고 ▁있다 . ▁바 울 로 가 ▁디 모 테 오 를 ▁할 례 했으나 ( 행 ▁16 : 3 ) ▁디 도 에게는 ▁하지 ▁않았다 는 ▁기록 ( 갈 ▁2 : 3 ) ▁역시 ▁이 ▁둘 이 ▁다른 ▁사람 이라는 ▁증거 가 ▁될 ▁수 ▁있으나 , ▁마 리우스 ▁빅 토리 누스 가 ▁주 석 에 ▁남 긴 것 ▁ 처럼 ▁갈라 디아 서 ▁2 장 ▁4 절 의 ▁일부 ▁사 본 은 ▁디 도 가 ▁할 례 를 ▁받았다 고 ▁말한다 . ▁디 도 의 ▁축 일 은 ▁트리 덴 티 노 ▁달 력 에는 ▁나와 있 지 ▁않았 지만 , ▁18 54 년에 ▁2 월 ▁6 일 로 ▁지정 되었다 . ▁1969 년에 ▁가톨릭 ▁교회 는 ▁성 ▁바 오 로 ▁사 도 의 ▁회 심 ▁축 일 ▁바로 ▁다음날 인 ▁1 월 ▁26 일 을 ▁바 울 로 의 ▁두 ▁제 자인 ▁디 모 테 오 와 ▁디 도 의 ▁축 일 로 ▁지정 했다 . ▁미국 ▁복 음 주의 ▁루 터 회 는 ▁디 모 테 오 와 ▁디 도 에 ▁더 해 ▁실 라 ▁역시 ▁같은 ▁날 에 ▁기념 한다 . ▁동 방 ▁정 교회 는 ▁8 월 ▁25 일 과 ▁1 월 ▁4 일 을 ▁축 일 로 ▁삼 는 다 . ▁그의 ▁성 물 은 ▁지금 은 ▁두 개 골 밖에 ▁남아있 지 ▁않은 데 , ▁터키 ▁점령 기 때 ▁베 네 치 아 로 ▁이 송 되었다 가 ▁1966 년에 ▁반 환 되어 ▁지금까지 ▁크레 타 ▁섬 의 ▁ 이라 클리 오 의 ▁성 ▁디 도 ▁교회 에 ▁있다 . < re f ▁ na me = \" the ▁xxmaj ▁ or t ho do x ▁xxmaj ▁m ess en g er , ▁v . ▁8 ( 7 ▁/ ▁8 ), ▁xxmaj ▁j ul y ▁/ ▁xxmaj ▁ au g ▁1997 \" > the ▁xxmaj ▁ or t ho do x ▁xxmaj ▁m ess en g er , ▁v . ▁8 ( 7 ▁/ ▁8 ), ▁xxmaj ▁j ul y ▁/ ▁xxmaj ▁ au g ▁1997 < ▁/ ▁re f > ▁성 ▁디 도 는 ▁미군 ▁군 종 ▁장교 의 ▁성인 이다 ."
      ]
     },
     "execution_count": 10,
     "metadata": {},
     "output_type": "execute_result"
    }
   ],
   "source": [
    "data.train_ds.x[1]"
   ]
  },
  {
   "cell_type": "markdown",
   "metadata": {},
   "source": [
    "# 2 - Train LM"
   ]
  },
  {
   "cell_type": "code",
   "execution_count": 6,
   "metadata": {},
   "outputs": [],
   "source": [
    "data = load_data(path, f'{lang}_databunch_sp15_multifit')"
   ]
  },
  {
   "cell_type": "code",
   "execution_count": 11,
   "metadata": {},
   "outputs": [],
   "source": [
    "config = awd_lstm_lm_config.copy()\n",
    "config['qrnn'] = True\n",
    "config['n_hid'] = 1550 #default 1152\n",
    "config['n_layers'] = 4 #default 3"
   ]
  },
  {
   "cell_type": "code",
   "execution_count": 12,
   "metadata": {},
   "outputs": [],
   "source": [
    "perplexity = Perplexity()\n",
    "learn = language_model_learner(data, AWD_LSTM, config=config, drop_mult=1., pretrained=False, \n",
    "                               metrics=[error_rate, accuracy, perplexity]).to_fp16()"
   ]
  },
  {
   "cell_type": "code",
   "execution_count": 13,
   "metadata": {},
   "outputs": [],
   "source": [
    "learn.unfreeze()"
   ]
  },
  {
   "cell_type": "code",
   "execution_count": 14,
   "metadata": {},
   "outputs": [
    {
     "data": {
      "text/html": [],
      "text/plain": [
       "<IPython.core.display.HTML object>"
      ]
     },
     "metadata": {},
     "output_type": "display_data"
    },
    {
     "name": "stdout",
     "output_type": "stream",
     "text": [
      "LR Finder is complete, type {learner_name}.recorder.plot() to see the graph.\n"
     ]
    }
   ],
   "source": [
    "learn.lr_find()"
   ]
  },
  {
   "cell_type": "code",
   "execution_count": 15,
   "metadata": {},
   "outputs": [
    {
     "data": {
      "image/png": "[encoded data removed]",
      "text/plain": [
       "<Figure size 432x288 with 1 Axes>"
      ]
     },
     "metadata": {
      "needs_background": "light"
     },
     "output_type": "display_data"
    }
   ],
   "source": [
    "learn.recorder.plot()\n"
   ]
  },
  {
   "cell_type": "code",
   "execution_count": 16,
   "metadata": {},
   "outputs": [],
   "source": [
    "lr = 1e-03\n",
    "lr *= bs/48\n",
    "wd = 0.01 \n"
   ]
  },
  {
   "cell_type": "code",
   "execution_count": null,
   "metadata": {},
   "outputs": [
    {
     "data": {
      "text/html": [
       "\n",
       "    <div>\n",
       "        <style>\n",
       "            /* Turns off some styling */\n",
       "            progress {\n",
       "                /* gets rid of default border in Firefox and Opera. */\n",
       "                border: none;\n",
       "                /* Needs to be in here for Safari polyfill so background images work as expected. */\n",
       "                background-size: auto;\n",
       "            }\n",
       "            .progress-bar-interrupted, .progress-bar-interrupted::-webkit-progress-bar {\n",
       "                background: #F44336;\n",
       "            }\n",
       "        </style>\n",
       "      <progress value='8' class='' max='10', style='width:300px; height:20px; vertical-align: middle;'></progress>\n",
       "      80.00% [8/10 3:32:56<53:14]\n",
       "    </div>\n",
       "    \n",
       "<table border=\"1\" class=\"dataframe\">\n",
       "  <thead>\n",
       "    <tr style=\"text-align: left;\">\n",
       "      <th>epoch</th>\n",
       "      <th>train_loss</th>\n",
       "      <th>valid_loss</th>\n",
       "      <th>error_rate</th>\n",
       "      <th>accuracy</th>\n",
       "      <th>perplexity</th>\n",
       "      <th>time</th>\n",
       "    </tr>\n",
       "  </thead>\n",
       "  <tbody>\n",
       "    <tr>\n",
       "      <td>0</td>\n",
       "      <td>9.210296</td>\n",
       "      <td>9.210295</td>\n",
       "      <td>0.999284</td>\n",
       "      <td>0.000716</td>\n",
       "      <td>9999.543945</td>\n",
       "      <td>26:33</td>\n",
       "    </tr>\n",
       "    <tr>\n",
       "      <td>1</td>\n",
       "      <td>9.210299</td>\n",
       "      <td>9.210295</td>\n",
       "      <td>0.999284</td>\n",
       "      <td>0.000716</td>\n",
       "      <td>9999.534180</td>\n",
       "      <td>26:31</td>\n",
       "    </tr>\n",
       "    <tr>\n",
       "      <td>2</td>\n",
       "      <td>9.210279</td>\n",
       "      <td>9.210295</td>\n",
       "      <td>0.999284</td>\n",
       "      <td>0.000716</td>\n",
       "      <td>9999.534180</td>\n",
       "      <td>26:36</td>\n",
       "    </tr>\n",
       "    <tr>\n",
       "      <td>3</td>\n",
       "      <td>9.210284</td>\n",
       "      <td>9.210295</td>\n",
       "      <td>0.999284</td>\n",
       "      <td>0.000716</td>\n",
       "      <td>9999.534180</td>\n",
       "      <td>26:39</td>\n",
       "    </tr>\n",
       "    <tr>\n",
       "      <td>4</td>\n",
       "      <td>9.210316</td>\n",
       "      <td>9.210295</td>\n",
       "      <td>0.999284</td>\n",
       "      <td>0.000716</td>\n",
       "      <td>9999.534180</td>\n",
       "      <td>26:38</td>\n",
       "    </tr>\n",
       "    <tr>\n",
       "      <td>5</td>\n",
       "      <td>9.210309</td>\n",
       "      <td>9.210295</td>\n",
       "      <td>0.999284</td>\n",
       "      <td>0.000716</td>\n",
       "      <td>9999.534180</td>\n",
       "      <td>26:38</td>\n",
       "    </tr>\n",
       "    <tr>\n",
       "      <td>6</td>\n",
       "      <td>9.210290</td>\n",
       "      <td>9.210295</td>\n",
       "      <td>0.999284</td>\n",
       "      <td>0.000716</td>\n",
       "      <td>9999.534180</td>\n",
       "      <td>26:37</td>\n",
       "    </tr>\n",
       "    <tr>\n",
       "      <td>7</td>\n",
       "      <td>9.210315</td>\n",
       "      <td>9.210295</td>\n",
       "      <td>0.999284</td>\n",
       "      <td>0.000716</td>\n",
       "      <td>9999.534180</td>\n",
       "      <td>26:38</td>\n",
       "    </tr>\n",
       "  </tbody>\n",
       "</table><p>\n",
       "\n",
       "    <div>\n",
       "        <style>\n",
       "            /* Turns off some styling */\n",
       "            progress {\n",
       "                /* gets rid of default border in Firefox and Opera. */\n",
       "                border: none;\n",
       "                /* Needs to be in here for Safari polyfill so background images work as expected. */\n",
       "                background-size: auto;\n",
       "            }\n",
       "            .progress-bar-interrupted, .progress-bar-interrupted::-webkit-progress-bar {\n",
       "                background: #F44336;\n",
       "            }\n",
       "        </style>\n",
       "      <progress value='1826' class='' max='3801', style='width:300px; height:20px; vertical-align: middle;'></progress>\n",
       "      48.04% [1826/3801 12:18<13:19 9.2103]\n",
       "    </div>\n",
       "    "
      ],
      "text/plain": [
       "<IPython.core.display.HTML object>"
      ]
     },
     "metadata": {},
     "output_type": "display_data"
    },
    {
     "data": {
      "image/png": "[encoded data removed]",
      "text/plain": [
       "<Figure size 432x288 with 1 Axes>"
      ]
     },
     "metadata": {},
     "output_type": "display_data"
    },
    {
     "name": "stdout",
     "output_type": "stream",
     "text": [
      "Better model found at epoch 0 with accuracy value: 0.0007163433474488556.\n"
     ]
    },
    {
     "name": "stderr",
     "output_type": "stream",
     "text": [
      "IOPub message rate exceeded.\n",
      "The notebook server will temporarily stop sending output\n",
      "to the client in order to avoid crashing it.\n",
      "To change this limit, set the config variable\n",
      "`--NotebookApp.iopub_msg_rate_limit`.\n",
      "\n",
      "Current values:\n",
      "NotebookApp.iopub_msg_rate_limit=1000.0 (msgs/sec)\n",
      "NotebookApp.rate_limit_window=3.0 (secs)\n",
      "\n",
      "IOPub message rate exceeded.\n",
      "The notebook server will temporarily stop sending output\n",
      "to the client in order to avoid crashing it.\n",
      "To change this limit, set the config variable\n",
      "`--NotebookApp.iopub_msg_rate_limit`.\n",
      "\n",
      "Current values:\n",
      "NotebookApp.iopub_msg_rate_limit=1000.0 (msgs/sec)\n",
      "NotebookApp.rate_limit_window=3.0 (secs)\n",
      "\n",
      "IOPub message rate exceeded.\n",
      "The notebook server will temporarily stop sending output\n",
      "to the client in order to avoid crashing it.\n",
      "To change this limit, set the config variable\n",
      "`--NotebookApp.iopub_msg_rate_limit`.\n",
      "\n",
      "Current values:\n",
      "NotebookApp.iopub_msg_rate_limit=1000.0 (msgs/sec)\n",
      "NotebookApp.rate_limit_window=3.0 (secs)\n",
      "\n",
      "IOPub message rate exceeded.\n",
      "The notebook server will temporarily stop sending output\n",
      "to the client in order to avoid crashing it.\n",
      "To change this limit, set the config variable\n",
      "`--NotebookApp.iopub_msg_rate_limit`.\n",
      "\n",
      "Current values:\n",
      "NotebookApp.iopub_msg_rate_limit=1000.0 (msgs/sec)\n",
      "NotebookApp.rate_limit_window=3.0 (secs)\n",
      "\n",
      "IOPub message rate exceeded.\n",
      "The notebook server will temporarily stop sending output\n",
      "to the client in order to avoid crashing it.\n",
      "To change this limit, set the config variable\n",
      "`--NotebookApp.iopub_msg_rate_limit`.\n",
      "\n",
      "Current values:\n",
      "NotebookApp.iopub_msg_rate_limit=1000.0 (msgs/sec)\n",
      "NotebookApp.rate_limit_window=3.0 (secs)\n",
      "\n"
     ]
    }
   ],
   "source": [
    "%%time\n",
    "learn.fit_one_cycle(10, lr, wd=wd, moms=(0.8,0.7), \n",
    "                    callbacks=[ShowGraph(learn),\n",
    "                               SaveModelCallback(learn.to_fp32(),\n",
    "                                                 monitor='accuracy',\n",
    "                                                 name='bestmodel_sp15_multifit')])"
   ]
  },
  {
   "cell_type": "code",
   "execution_count": null,
   "metadata": {},
   "outputs": [],
   "source": [
    "mdl_path = path/'models'\n",
    "mdl_path.mkdir(exist_ok=True)\n",
    "learn.to_fp32().save(mdl_path/lm_fns3[0], with_opt=False)\n",
    "learn.data.vocab.save(mdl_path/(lm_fns3[1] + '.pkl'))"
   ]
  }
 ],
 "metadata": {
  "kernelspec": {
   "display_name": "Python [conda env:root] *",
   "language": "python",
   "name": "conda-root-py"
  },
  "language_info": {
   "codemirror_mode": {
    "name": "ipython",
    "version": 3
   },
   "file_extension": ".py",
   "mimetype": "text/x-python",
   "name": "python",
   "nbconvert_exporter": "python",
   "pygments_lexer": "ipython3",
   "version": "3.7.4"
  }
 },
 "nbformat": 4,
 "nbformat_minor": 4
}
